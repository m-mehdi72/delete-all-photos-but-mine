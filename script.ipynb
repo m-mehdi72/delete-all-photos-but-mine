{
 "cells": [
  {
   "cell_type": "code",
   "execution_count": 2,
   "metadata": {},
   "outputs": [],
   "source": [
    "import cv2\n",
    "import face_recognition\n",
    "import os"
   ]
  },
  {
   "cell_type": "code",
   "execution_count": 3,
   "metadata": {},
   "outputs": [],
   "source": [
    "path = 'TRAIN'\n",
    "images = []\n",
    "classNames = []\n",
    "myList = os.listdir(path)"
   ]
  },
  {
   "cell_type": "code",
   "execution_count": 4,
   "metadata": {},
   "outputs": [],
   "source": [
    "for cl in myList:\n",
    "    curImg = cv2.imread(f'{path}/{cl}')\n",
    "    images.append(curImg)\n",
    "    classNames.append(os.path.splitext(cl)[0])"
   ]
  },
  {
   "cell_type": "code",
   "execution_count": 7,
   "metadata": {},
   "outputs": [],
   "source": [
    "def findEncodings(images):\n",
    "    encodeList = []\n",
    "    for img in images:\n",
    "        img = cv2.cvtColor(img, cv2.COLOR_BGR2RGB)\n",
    "        face_encodings = face_recognition.face_encodings(img)\n",
    "        if len(face_encodings) > 0:\n",
    "            encode = face_encodings[0]\n",
    "            encodeList.append(encode)\n",
    "        else:\n",
    "            print(\"No face detected in one of the images.\")\n",
    "    return encodeList\n"
   ]
  },
  {
   "cell_type": "code",
   "execution_count": 11,
   "metadata": {},
   "outputs": [
    {
     "name": "stdout",
     "output_type": "stream",
     "text": [
      "No face detected in one of the images.\n",
      "No face detected in one of the images.\n",
      "No face detected in one of the images.\n",
      "Encoding Complete\n"
     ]
    }
   ],
   "source": [
    "encodeListKnown = findEncodings(images)\n",
    "print('Encoding Complete')"
   ]
  },
  {
   "cell_type": "code",
   "execution_count": 9,
   "metadata": {},
   "outputs": [],
   "source": [
    "def findImagesWithoutKnownFaces(images_folder, known_encodings):\n",
    "    images_without_known_faces = []\n",
    "\n",
    "    # Load images from the specified folder\n",
    "    for filename in os.listdir(images_folder):\n",
    "        image_path = os.path.join(images_folder, filename)\n",
    "        if os.path.isfile(image_path):\n",
    "            # Read the image\n",
    "            img = cv2.imread(image_path)\n",
    "            # Convert image to RGB\n",
    "            rgb_img = cv2.cvtColor(img, cv2.COLOR_BGR2RGB)\n",
    "            # Find face encodings in the image\n",
    "            face_encodings = face_recognition.face_encodings(rgb_img)\n",
    "\n",
    "            if len(face_encodings) == 0:\n",
    "                # If no face is found in the image\n",
    "                images_without_known_faces.append(filename)\n",
    "            else:\n",
    "                # Compare the face encodings with known encodings\n",
    "                for face_encoding in face_encodings:\n",
    "                    matches = face_recognition.compare_faces(known_encodings, face_encoding)\n",
    "                    if not any(matches):\n",
    "                        images_without_known_faces.append(filename)\n",
    "                        break\n",
    "\n",
    "    return images_without_known_faces"
   ]
  },
  {
   "cell_type": "code",
   "execution_count": 12,
   "metadata": {},
   "outputs": [
    {
     "name": "stdout",
     "output_type": "stream",
     "text": [
      "Images without any of the known faces:\n",
      "IMG_9819.JPG\n",
      "IMG_9826.JPG\n",
      "IMG_9829.JPG\n",
      "IMG_9830.JPG\n",
      "IMG_9831.JPG\n",
      "IMG_9833.JPG\n",
      "IMG_9837.JPG\n",
      "IMG_9847.JPG\n",
      "IMG_9852.JPG\n",
      "IMG_9855.JPG\n",
      "IMG_9861.JPG\n",
      "IMG_9862.JPG\n",
      "IMG_9864.JPG\n",
      "IMG_9866.JPG\n"
     ]
    }
   ],
   "source": [
    "# Specify the folder containing images\n",
    "images_folder = 'TEST'\n",
    "\n",
    "# Find images without any of the known faces\n",
    "images_without_known_faces = findImagesWithoutKnownFaces(images_folder, encodeListKnown)\n",
    "\n",
    "if images_without_known_faces:\n",
    "    print(\"Images without any of the known faces:\")\n",
    "    for filename in images_without_known_faces:\n",
    "        print(filename)\n",
    "else:\n",
    "    print(\"All images contain at least one of the known faces.\")"
   ]
  }
 ],
 "metadata": {
  "kernelspec": {
   "display_name": "venv",
   "language": "python",
   "name": "python3"
  },
  "language_info": {
   "codemirror_mode": {
    "name": "ipython",
    "version": 3
   },
   "file_extension": ".py",
   "mimetype": "text/x-python",
   "name": "python",
   "nbconvert_exporter": "python",
   "pygments_lexer": "ipython3",
   "version": "3.10.5"
  }
 },
 "nbformat": 4,
 "nbformat_minor": 2
}
